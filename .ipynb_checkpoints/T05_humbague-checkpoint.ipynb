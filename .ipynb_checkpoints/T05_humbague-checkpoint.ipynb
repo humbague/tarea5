{
 "cells": [
  {
   "cell_type": "markdown",
   "metadata": {},
   "source": [
    "# Tarea\n",
    "\n",
    "* Verificar que el estado de Bob antes de aprender los resultados de la medición de Alice, es equivalente a tener un estado $|0\\rangle$ o $|1\\rangle$ con igual probabilidad.\n",
    "* Hacer un script que verifique el la traza parcial de un estado aleatorio, tiene traza uno y es semipositiva. Ponerlo en forma de Travis CI."
   ]
  },
  {
   "cell_type": "markdown",
   "metadata": {},
   "source": [
    "## Parte 1\n",
    "Antes de que Bob sepa los resultados de Alice, la función de onda del sistema es\n",
    "\\begin{align}\n",
    "|\\psi_2\\rangle & =\\frac12(\n",
    "\\alpha|000\\rangle  + \\alpha|100\\rangle +  \\alpha|011\\rangle  + \\alpha|111\\rangle  + \\beta|010\\rangle  - \\beta|110\\rangle  + \\beta|001\\rangle -\\beta|101\\rangle) \\\\\n",
    "&=\\frac12(\n",
    "|00\\rangle(\\alpha|0\\rangle + \\beta|1\\rangle) +|01\\rangle(\\alpha|1\\rangle + \\beta|0\\rangle) +|10\\rangle(\\alpha|0\\rangle - \\beta|1\\rangle) +|11\\rangle(\\alpha|1\\rangle - \\beta|0\\rangle)\n",
    ").\n",
    "\\end{align}\n",
    "Podemos encontrar la probabilidad de que Bob tenga un estado $| 0\\rangle$ o $| 1\\rangle$ usando la traza parcial. Para esto, veamos primero que la matriz de densidad asociada al estado $\\psi_2\\rangle$ está dada por\n",
    "\\begin{align}\n",
    "\\rho  = & \\frac{|00\\rangle \\langle 00 |(\\alpha|0\\rangle + \\beta|1\\rangle)(\\alpha^* \\langle 0| + \\beta^* \\langle 1|)+\n",
    "|01\\rangle \\langle 01 |(\\alpha|1\\rangle + \\beta|0\\rangle)(\\alpha^* \\langle 1| + \\beta^* \\langle 0|)}{4}+ \\\\\n",
    "& + \\frac{|10\\rangle \\langle 10 |(\\alpha|0\\rangle - \\beta|1\\rangle)(\\alpha^* \\langle 0| - \\beta^* \\langle 1|)+\n",
    "|11\\rangle \\langle 11 |(\\alpha|1\\rangle - \\beta|0\\rangle)(\\alpha^* \\langle 1| - \\beta^* \\langle 0|)}{4}\n",
    "\\end{align}\n",
    "Queremos obtener la traza parcial del qubit de Bob (el último de izquierda a derecha), tenemos que hacer\n",
    "\\begin{align}\n",
    "\\rho^3 & =  tr_{12} (\\rho) \\\\\n",
    " & = \\frac{tr(|00\\rangle \\langle 00 |)(\\alpha|0\\rangle + \\beta|1\\rangle)(\\alpha^* \\langle 0| + \\beta^* \\langle 1|)+\n",
    "tr(|01\\rangle \\langle 01 |)(\\alpha|1\\rangle + \\beta|0\\rangle)(\\alpha^* \\langle 1| + \\beta^* \\langle 0|)}{4}+ \\\\\n",
    "& + \\frac{tr(|10\\rangle \\langle 10 |)(\\alpha|0\\rangle - \\beta|1\\rangle)(\\alpha^* \\langle 0| - \\beta^* \\langle 1|)+\n",
    "tr(|11\\rangle \\langle 11 |)(\\alpha|1\\rangle - \\beta|0\\rangle)(\\alpha^* \\langle 1| - \\beta^* \\langle 0|)}{4}\\\\\n",
    "& = \\frac{(\\alpha|0\\rangle + \\beta|1\\rangle)(\\alpha^* \\langle 0| + \\beta^* \\langle 1|)+(\\alpha|1\\rangle + \\beta|0\\rangle)(\\alpha^* \\langle 1| + \\beta^* \\langle 0|)}{4}+\\\\\n",
    "& + \\frac{(\\alpha|0\\rangle - \\beta|1\\rangle)(\\alpha^* \\langle 0| - \\beta^* \\langle 1|)+(\\alpha|1\\rangle - \\beta|0\\rangle)(\\alpha^* \\langle 1| - \\beta^* \\langle 0|)}{4}\\\\\n",
    "& = \\frac{(|\\alpha|^2 + |\\beta|^2)|0\\rangle \\langle 0 | + (|\\alpha|^2 + |\\beta|^2)|1\\rangle \\langle 1 |}{2}\n",
    "\\end{align}\n",
    "y por normalización tenemos\n",
    "\\begin{align}\n",
    "\\rho^3 & = \\frac{|0\\rangle \\langle 0 | +|1\\rangle \\langle 1 |}{2}=\\frac{I}{2}\n",
    "\\end{align}\n",
    "Donde $I$ es la matriz de identidad, por lo que tenemos la misma probabilidad de encontrar al qubit de Bob en $|0\\rangle$ o en $|1\\rangle$."
   ]
  }
 ],
 "metadata": {
  "anaconda-cloud": {},
  "kernelspec": {
   "display_name": "Julia 0.5.0",
   "language": "julia",
   "name": "julia-0.5"
  },
  "language_info": {
   "file_extension": ".jl",
   "mimetype": "application/julia",
   "name": "julia",
   "version": "0.5.0"
  }
 },
 "nbformat": 4,
 "nbformat_minor": 0
}
